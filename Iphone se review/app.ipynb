{
 "cells": [
  {
   "cell_type": "code",
   "execution_count": 1,
   "id": "c1262b51-3932-4bf2-83ca-4ad1118c87ed",
   "metadata": {},
   "outputs": [],
   "source": [
    "import pandas as pd\n",
    "import numpy as np"
   ]
  },
  {
   "cell_type": "code",
   "execution_count": 2,
   "id": "ee9becdc-6fe6-45f4-b444-6965e7ec1f7d",
   "metadata": {},
   "outputs": [
    {
     "name": "stdout",
     "output_type": "stream",
     "text": [
      "<class 'pandas.core.frame.DataFrame'>\n",
      "RangeIndex: 9713 entries, 0 to 9712\n",
      "Data columns (total 3 columns):\n",
      " #   Column   Non-Null Count  Dtype \n",
      "---  ------   --------------  ----- \n",
      " 0   Ratings  9713 non-null   int64 \n",
      " 1   Comment  9713 non-null   object\n",
      " 2   Reviews  9713 non-null   object\n",
      "dtypes: int64(1), object(2)\n",
      "memory usage: 227.8+ KB\n",
      "None\n",
      "270\n",
      "   Ratings         Comment                                            Reviews\n",
      "0        5          Super!  Great camera for pics and videos Battery life ...\n",
      "1        5       Must buy!  Great device. Let me tell the Pros..1. Superb ...\n",
      "2        5   Great product  Who all loves older size i.e., 4.7 inch type s...\n",
      "3        5  Simply awesome  This iPhone SE is the best phone ever you get....\n"
     ]
    }
   ],
   "source": [
    "df=pd.read_csv(\"./data.csv\")\n",
    "print(df.info())\n",
    "print(len(df['Reviews'][1]))\n",
    "print(df.head(4))"
   ]
  },
  {
   "cell_type": "code",
   "execution_count": 4,
   "id": "c8698fb0-4748-4725-bc21-d29e2b0f9576",
   "metadata": {},
   "outputs": [
    {
     "name": "stdout",
     "output_type": "stream",
     "text": [
      "(9713, 3)\n"
     ]
    }
   ],
   "source": [
    "print(df.shape)"
   ]
  },
  {
   "cell_type": "code",
   "execution_count": 5,
   "id": "478593a7-5636-44ce-8094-aa86f43f0006",
   "metadata": {},
   "outputs": [
    {
     "name": "stdout",
     "output_type": "stream",
     "text": [
      "   Ratings         Comment                                            Reviews\n",
      "0        5          Super!  Super! Great camera for pics and videos Batter...\n",
      "1        5       Must buy!  Must buy! Great device. Let me tell the Pros.....\n",
      "2        5   Great product  Great product Who all loves older size i.e., 4...\n",
      "3        5  Simply awesome  Simply awesome This iPhone SE is the best phon...\n",
      "4        5  Classy product  Classy product This is my second iphone after ...\n"
     ]
    }
   ],
   "source": [
    "df['Reviews']=df['Comment']+\" \"+df['Reviews']\n",
    "print(df.head(5))"
   ]
  },
  {
   "cell_type": "code",
   "execution_count": 6,
   "id": "4b23ec90-7d90-4bf4-b703-04454e582d39",
   "metadata": {},
   "outputs": [
    {
     "name": "stdout",
     "output_type": "stream",
     "text": [
      "   Ratings                                            Reviews\n",
      "0        5  Super! Great camera for pics and videos Batter...\n",
      "1        5  Must buy! Great device. Let me tell the Pros.....\n",
      "2        5  Great product Who all loves older size i.e., 4...\n",
      "3        5  Simply awesome This iPhone SE is the best phon...\n",
      "4        5  Classy product This is my second iphone after ...\n"
     ]
    }
   ],
   "source": [
    "df=df.drop(['Comment'],axis=1)\n",
    "print(df.head(5))"
   ]
  },
  {
   "cell_type": "code",
   "execution_count": 7,
   "id": "273770b9-3dee-4858-869c-6f817c0e3ce0",
   "metadata": {},
   "outputs": [],
   "source": [
    "x=df['Reviews']\n",
    "y=df['Ratings']"
   ]
  },
  {
   "cell_type": "code",
   "execution_count": 8,
   "id": "c4202dd3-4857-40ef-89d6-c12d9bd45f89",
   "metadata": {},
   "outputs": [
    {
     "data": {
      "text/plain": [
       "array(['Super! Great camera for pics and videos Battery life is good so far with some setting turn of which i never use and when i use i turn those on and i use it in power saving mode all the time so a full day with light gaming of 1hr or more using camera for 1hr or more listening music in my car on youtube and Bluetooth on for couple of hours it gives me full day of battery varing from 4/5 to 6/7 hours sot per dayPerformance is top notch plays every game and every task with easeVery premium phone look...READ MORE',\n",
       "       'Must buy! Great device. Let me tell the Pros..1. Superb build quality 2. Great display. 3. Camera is great in good lighting conditions 4. Processing is great. 5. Sound is superb. 6. Call quality is great. 7. Red colour looks superb.8. Portrait mode photography is Superb.READ MORE',\n",
       "       'Great product Who all loves older size i.e., 4.7 inch type should definitely go for this.  Nothing is better than XR, XS or 11. Best for price and usage.READ MORE',\n",
       "       ..., 'Awesome very niceREAD MORE',\n",
       "       'Super! Loving it as of now. Good Product .READ MORE',\n",
       "       'Terrific purchase NiceElegant ElectricREAD MORE'], dtype=object)"
      ]
     },
     "execution_count": 8,
     "metadata": {},
     "output_type": "execute_result"
    }
   ],
   "source": [
    "x=np.array(x)\n",
    "x"
   ]
  },
  {
   "cell_type": "code",
   "execution_count": 28,
   "id": "4681cd9d-1335-42a4-94b9-0155b5db79da",
   "metadata": {},
   "outputs": [
    {
     "name": "stdout",
     "output_type": "stream",
     "text": [
      "['Super ! Great camera pic video Battery life good far setting turn never use use turn use power saving mode time full day light gaming 1hr using camera 1hr listening music car youtube Bluetooth couple hour give full day battery varing 4/5 6/7 hour sot per dayPerformance top notch play every game every task easeVery premium phone look READ MORE'\n",
      " 'Must buy ! Great device . Let tell Pros .. 1 . Superb build quality 2 . Great display . 3 . Camera great good lighting condition 4 . Processing great . 5 . Sound superb . 6 . Call quality great . 7 . Red colour look superb.8 . Portrait mode photography Superb.READ MORE'\n",
      " 'Great product Who love older size i.e . , 4.7 inch type definitely go . Nothing better XR , XS 11 . Best price usage.READ MORE'\n",
      " ... 'Awesome niceREAD MORE' 'Super ! Loving . Good Product .READ MORE'\n",
      " 'Terrific purchase NiceElegant ElectricREAD MORE']\n"
     ]
    }
   ],
   "source": [
    "from nltk.tokenize import word_tokenize\n",
    "from nltk.corpus import stopwords\n",
    "from nltk.stem.wordnet import WordNetLemmatizer\n",
    "stpwrd=stopwords.words('english')\n",
    "stpwrd.append(\"READ MORE\")\n",
    "stpwrd.append(\"...\")\n",
    "lemma=WordNetLemmatizer()\n",
    "for i in range(len(x)):\n",
    "    sent=x[i]\n",
    "    words=word_tokenize(sent)\n",
    "    words=[lemma.lemmatize(i) for i in words if(i not in stpwrd)]\n",
    "    x[i]=\" \".join(words)\n",
    "print(x)"
   ]
  },
  {
   "cell_type": "code",
   "execution_count": 29,
   "id": "a93dc1ac-e7bf-4c71-b8ec-7c47994ba5fa",
   "metadata": {},
   "outputs": [
    {
     "name": "stdout",
     "output_type": "stream",
     "text": [
      "(9713,)\n",
      "344\n"
     ]
    }
   ],
   "source": [
    "print(x.shape)\n",
    "print(len(x[0]))"
   ]
  },
  {
   "cell_type": "code",
   "execution_count": 30,
   "id": "5c5d3486-8584-417a-9549-a0a1eecb3775",
   "metadata": {},
   "outputs": [],
   "source": [
    "from sklearn.feature_extraction.text import TfidfVectorizer\n",
    "vectorizer=TfidfVectorizer()\n",
    "vector_x=vectorizer.fit_transform(x)\n"
   ]
  },
  {
   "cell_type": "code",
   "execution_count": null,
   "id": "316112d1-587a-4307-80f3-e0cd066988a7",
   "metadata": {},
   "outputs": [],
   "source": []
  },
  {
   "cell_type": "code",
   "execution_count": 31,
   "id": "b6e6f646-a07c-4408-bfc2-ba8dfc964179",
   "metadata": {},
   "outputs": [
    {
     "ename": "MemoryError",
     "evalue": "Unable to allocate 554. MiB for an array with shape (9713, 7470) and data type float64",
     "output_type": "error",
     "traceback": [
      "\u001b[1;31m---------------------------------------------------------------------------\u001b[0m",
      "\u001b[1;31mMemoryError\u001b[0m                               Traceback (most recent call last)",
      "Cell \u001b[1;32mIn[31], line 1\u001b[0m\n\u001b[1;32m----> 1\u001b[0m vector_x\u001b[38;5;241m=\u001b[39m\u001b[43mvector_x\u001b[49m\u001b[38;5;241;43m.\u001b[39;49m\u001b[43mtoarray\u001b[49m\u001b[43m(\u001b[49m\u001b[43m)\u001b[49m\n\u001b[0;32m      2\u001b[0m vector_x\n",
      "File \u001b[1;32m~\\AppData\\Local\\Programs\\Python\\Python312\\Lib\\site-packages\\scipy\\sparse\\_compressed.py:1050\u001b[0m, in \u001b[0;36m_cs_matrix.toarray\u001b[1;34m(self, order, out)\u001b[0m\n\u001b[0;32m   1048\u001b[0m \u001b[38;5;28;01mif\u001b[39;00m out \u001b[38;5;129;01mis\u001b[39;00m \u001b[38;5;28;01mNone\u001b[39;00m \u001b[38;5;129;01mand\u001b[39;00m order \u001b[38;5;129;01mis\u001b[39;00m \u001b[38;5;28;01mNone\u001b[39;00m:\n\u001b[0;32m   1049\u001b[0m     order \u001b[38;5;241m=\u001b[39m \u001b[38;5;28mself\u001b[39m\u001b[38;5;241m.\u001b[39m_swap(\u001b[38;5;124m'\u001b[39m\u001b[38;5;124mcf\u001b[39m\u001b[38;5;124m'\u001b[39m)[\u001b[38;5;241m0\u001b[39m]\n\u001b[1;32m-> 1050\u001b[0m out \u001b[38;5;241m=\u001b[39m \u001b[38;5;28;43mself\u001b[39;49m\u001b[38;5;241;43m.\u001b[39;49m\u001b[43m_process_toarray_args\u001b[49m\u001b[43m(\u001b[49m\u001b[43morder\u001b[49m\u001b[43m,\u001b[49m\u001b[43m \u001b[49m\u001b[43mout\u001b[49m\u001b[43m)\u001b[49m\n\u001b[0;32m   1051\u001b[0m \u001b[38;5;28;01mif\u001b[39;00m \u001b[38;5;129;01mnot\u001b[39;00m (out\u001b[38;5;241m.\u001b[39mflags\u001b[38;5;241m.\u001b[39mc_contiguous \u001b[38;5;129;01mor\u001b[39;00m out\u001b[38;5;241m.\u001b[39mflags\u001b[38;5;241m.\u001b[39mf_contiguous):\n\u001b[0;32m   1052\u001b[0m     \u001b[38;5;28;01mraise\u001b[39;00m \u001b[38;5;167;01mValueError\u001b[39;00m(\u001b[38;5;124m'\u001b[39m\u001b[38;5;124mOutput array must be C or F contiguous\u001b[39m\u001b[38;5;124m'\u001b[39m)\n",
      "File \u001b[1;32m~\\AppData\\Local\\Programs\\Python\\Python312\\Lib\\site-packages\\scipy\\sparse\\_base.py:1267\u001b[0m, in \u001b[0;36m_spbase._process_toarray_args\u001b[1;34m(self, order, out)\u001b[0m\n\u001b[0;32m   1265\u001b[0m     \u001b[38;5;28;01mreturn\u001b[39;00m out\n\u001b[0;32m   1266\u001b[0m \u001b[38;5;28;01melse\u001b[39;00m:\n\u001b[1;32m-> 1267\u001b[0m     \u001b[38;5;28;01mreturn\u001b[39;00m \u001b[43mnp\u001b[49m\u001b[38;5;241;43m.\u001b[39;49m\u001b[43mzeros\u001b[49m\u001b[43m(\u001b[49m\u001b[38;5;28;43mself\u001b[39;49m\u001b[38;5;241;43m.\u001b[39;49m\u001b[43mshape\u001b[49m\u001b[43m,\u001b[49m\u001b[43m \u001b[49m\u001b[43mdtype\u001b[49m\u001b[38;5;241;43m=\u001b[39;49m\u001b[38;5;28;43mself\u001b[39;49m\u001b[38;5;241;43m.\u001b[39;49m\u001b[43mdtype\u001b[49m\u001b[43m,\u001b[49m\u001b[43m \u001b[49m\u001b[43morder\u001b[49m\u001b[38;5;241;43m=\u001b[39;49m\u001b[43morder\u001b[49m\u001b[43m)\u001b[49m\n",
      "\u001b[1;31mMemoryError\u001b[0m: Unable to allocate 554. MiB for an array with shape (9713, 7470) and data type float64"
     ]
    }
   ],
   "source": [
    "vector_x=vector_x.toarray()\n",
    "vector_x"
   ]
  },
  {
   "cell_type": "code",
   "execution_count": 24,
   "id": "9f785c0c-9f42-4d64-b837-ac42ddf491e1",
   "metadata": {},
   "outputs": [
    {
     "name": "stdout",
     "output_type": "stream",
     "text": [
      "7470\n"
     ]
    }
   ],
   "source": [
    "print(len(vectorizer.get_feature_names_out()))"
   ]
  },
  {
   "cell_type": "code",
   "execution_count": 25,
   "id": "2d77e35b-89a0-4374-87ef-0a35a50636b4",
   "metadata": {},
   "outputs": [
    {
     "name": "stdout",
     "output_type": "stream",
     "text": [
      "(9713, 7470)\n"
     ]
    }
   ],
   "source": [
    "print(vector_x.shape)"
   ]
  },
  {
   "cell_type": "code",
   "execution_count": null,
   "id": "70970846-4037-457b-8dee-2efba243ca9e",
   "metadata": {},
   "outputs": [],
   "source": []
  },
  {
   "cell_type": "code",
   "execution_count": 26,
   "id": "280c2b4d-6f51-4dec-b47e-bbb255d9382f",
   "metadata": {},
   "outputs": [],
   "source": [
    "from sklearn.model_selection import train_test_split\n",
    "xtrain,xtest,ytrain,ytest=train_test_split(vector_x,y,train_size=.8,random_state=20)"
   ]
  },
  {
   "cell_type": "code",
   "execution_count": 27,
   "id": "ed5bfb9b-185b-4325-b475-5f446d09cf92",
   "metadata": {},
   "outputs": [
    {
     "ename": "TypeError",
     "evalue": "sparse array length is ambiguous; use getnnz() or shape[0]",
     "output_type": "error",
     "traceback": [
      "\u001b[1;31m---------------------------------------------------------------------------\u001b[0m",
      "\u001b[1;31mTypeError\u001b[0m                                 Traceback (most recent call last)",
      "Cell \u001b[1;32mIn[27], line 1\u001b[0m\n\u001b[1;32m----> 1\u001b[0m \u001b[38;5;28;43mlen\u001b[39;49m\u001b[43m(\u001b[49m\u001b[43mxtrain\u001b[49m\u001b[43m)\u001b[49m\n\u001b[0;32m      2\u001b[0m \u001b[38;5;28mlen\u001b[39m(xtest)\n\u001b[0;32m      3\u001b[0m \u001b[38;5;28mprint\u001b[39m(xtrain)\n",
      "File \u001b[1;32m~\\AppData\\Local\\Programs\\Python\\Python312\\Lib\\site-packages\\scipy\\sparse\\_base.py:340\u001b[0m, in \u001b[0;36m_spbase.__len__\u001b[1;34m(self)\u001b[0m\n\u001b[0;32m    339\u001b[0m \u001b[38;5;28;01mdef\u001b[39;00m \u001b[38;5;21m__len__\u001b[39m(\u001b[38;5;28mself\u001b[39m):\n\u001b[1;32m--> 340\u001b[0m     \u001b[38;5;28;01mraise\u001b[39;00m \u001b[38;5;167;01mTypeError\u001b[39;00m(\u001b[38;5;124m\"\u001b[39m\u001b[38;5;124msparse array length is ambiguous; use getnnz()\u001b[39m\u001b[38;5;124m\"\u001b[39m\n\u001b[0;32m    341\u001b[0m                     \u001b[38;5;124m\"\u001b[39m\u001b[38;5;124m or shape[0]\u001b[39m\u001b[38;5;124m\"\u001b[39m)\n",
      "\u001b[1;31mTypeError\u001b[0m: sparse array length is ambiguous; use getnnz() or shape[0]"
     ]
    }
   ],
   "source": [
    "len(xtrain)\n",
    "len(xtest)\n",
    "print(xtrain)"
   ]
  },
  {
   "cell_type": "code",
   "execution_count": 42,
   "id": "a762195d-ffd5-456f-8ed2-29553a7141d5",
   "metadata": {},
   "outputs": [
    {
     "name": "stderr",
     "output_type": "stream",
     "text": [
      "C:\\Users\\panka\\AppData\\Local\\Programs\\Python\\Python312\\Lib\\site-packages\\sklearn\\neural_network\\_multilayer_perceptron.py:691: ConvergenceWarning: Stochastic Optimizer: Maximum iterations (100) reached and the optimization hasn't converged yet.\n",
      "  warnings.warn(\n"
     ]
    }
   ],
   "source": [
    "from sklearn.neural_network import MLPClassifier\n",
    "mlp=MLPClassifier(hidden_layer_sizes=(100,100),alpha=.1,max_iter=100)\n",
    "clf=mlp.fit(xtrain,ytrain)"
   ]
  },
  {
   "cell_type": "code",
   "execution_count": 43,
   "id": "0ac886ce-db1d-47ff-8567-0011c2e6adfc",
   "metadata": {},
   "outputs": [
    {
     "name": "stdout",
     "output_type": "stream",
     "text": [
      "[   0   86   34   79  345 1399] [   0   84   42  106  341 1370]\n"
     ]
    }
   ],
   "source": [
    "res=clf.predict(xtest)\n",
    "print(np.bincount(res),np.bincount(ytest))\n"
   ]
  },
  {
   "cell_type": "code",
   "execution_count": 1,
   "id": "143485f3-09cc-4058-8ac7-f82194332d2e",
   "metadata": {},
   "outputs": [
    {
     "ename": "NameError",
     "evalue": "name 'np' is not defined",
     "output_type": "error",
     "traceback": [
      "\u001b[1;31m---------------------------------------------------------------------------\u001b[0m",
      "\u001b[1;31mNameError\u001b[0m                                 Traceback (most recent call last)",
      "Cell \u001b[1;32mIn[1], line 1\u001b[0m\n\u001b[1;32m----> 1\u001b[0m \u001b[38;5;28mprint\u001b[39m(\u001b[38;5;124m\"\u001b[39m\u001b[38;5;124mAccuracy:\u001b[39m\u001b[38;5;124m\"\u001b[39m,\u001b[43mnp\u001b[49m\u001b[38;5;241m.\u001b[39msum(res\u001b[38;5;241m==\u001b[39mytest)\u001b[38;5;241m/\u001b[39m\u001b[38;5;28mlen\u001b[39m(ytest))\n",
      "\u001b[1;31mNameError\u001b[0m: name 'np' is not defined"
     ]
    }
   ],
   "source": [
    "print(\"Accuracy:\",np.sum(res==ytest)/len(ytest))"
   ]
  },
  {
   "cell_type": "code",
   "execution_count": null,
   "id": "84b9636b-a631-43a4-a941-1074868ab627",
   "metadata": {},
   "outputs": [],
   "source": []
  }
 ],
 "metadata": {
  "kernelspec": {
   "display_name": "Python 3 (ipykernel)",
   "language": "python",
   "name": "python3"
  },
  "language_info": {
   "codemirror_mode": {
    "name": "ipython",
    "version": 3
   },
   "file_extension": ".py",
   "mimetype": "text/x-python",
   "name": "python",
   "nbconvert_exporter": "python",
   "pygments_lexer": "ipython3",
   "version": "3.12.1"
  }
 },
 "nbformat": 4,
 "nbformat_minor": 5
}
