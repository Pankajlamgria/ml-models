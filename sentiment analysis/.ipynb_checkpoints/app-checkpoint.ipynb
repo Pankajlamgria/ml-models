{
 "cells": [
  {
   "cell_type": "code",
   "execution_count": 1,
   "id": "ce885e06-8274-4ed2-a369-d560ef284bee",
   "metadata": {},
   "outputs": [],
   "source": [
    "import numpy as np\n",
    "import nltk\n",
    "from nltk.tokenize import sent_tokenize\n",
    "import pandas as pd"
   ]
  },
  {
   "cell_type": "code",
   "execution_count": 2,
   "id": "67d30935-9b71-4616-81e2-e074630b20ce",
   "metadata": {},
   "outputs": [],
   "source": [
    "def load_data():\n",
    "    df=open('./train.txt','r')\n",
    "    text=df.read()\n",
    "    corpus=text.split('\\n')\n",
    "    xtrain=[]\n",
    "    ytrain=[]\n",
    "    for x in corpus:\n",
    "        temp=x.split(';')\n",
    "        if(len(temp)==2):\n",
    "            xtrain.append(temp[0])\n",
    "            ytrain.append(temp[1])\n",
    "    df=pd.DataFrame([xtrain,ytrain])\n",
    "    df.to_csv('./train.csv')\n",
    "    \n",
    "\n",
    "load_data()"
   ]
  },
  {
   "cell_type": "code",
   "execution_count": 3,
   "id": "fc97a51e-9265-4c41-8d25-b28258da330f",
   "metadata": {},
   "outputs": [
    {
     "name": "stdout",
     "output_type": "stream",
     "text": [
      "2000\n",
      "2000\n"
     ]
    }
   ],
   "source": [
    "def processing_test():\n",
    "    df=open('./test.txt','r')\n",
    "    text=df.read()\n",
    "    corpus=text.split('\\n')\n",
    "    xtrain=[]\n",
    "    ytrain=[]\n",
    "    for x in corpus:\n",
    "        temp=x.split(';')\n",
    "        if(len(temp)==2):\n",
    "            xtrain.append(temp[0])\n",
    "            ytrain.append(temp[1])\n",
    "    print(len(xtrain))\n",
    "    print(len(ytrain))\n",
    "    df=pd.DataFrame([xtrain,ytrain])\n",
    "    df.to_csv('./test.csv')\n",
    "\n",
    "processing_test()\n"
   ]
  },
  {
   "cell_type": "code",
   "execution_count": 4,
   "id": "65cc0095-93e8-4d98-b8b9-01ac19964fa8",
   "metadata": {},
   "outputs": [
    {
     "name": "stdout",
     "output_type": "stream",
     "text": [
      "[0 'i didnt feel humiliated'\n",
      " 'i can go from feeling so hopeless to so damned hopeful just from being around someone who cares and is awake'\n",
      " ... 'i feel strong and good overall'\n",
      " 'i feel like this was such a rude comment and im glad that t'\n",
      " 'i know a lot but i feel so stupid because i can not portray it']\n"
     ]
    }
   ],
   "source": [
    "def load():\n",
    "    df=pd.read_csv(\"./train.csv\")\n",
    "    xtrain=df.iloc[0]\n",
    "    ytrain=df.iloc[1]\n",
    "    ytrain=ytrain.replace(['sadness','anger','love','surprise','fear','joy'],[1,2,3,4,5,6])\n",
    "    return np.array(xtrain),np.array(ytrain)\n",
    "xtrain,ytrain=load()\n",
    "print(xtrain)"
   ]
  },
  {
   "cell_type": "code",
   "execution_count": 5,
   "id": "7ad6c13d-8482-45d4-b582-8cb3e3d1e0f7",
   "metadata": {},
   "outputs": [],
   "source": [
    "xtrain=xtrain[1:]\n",
    "ytrain=ytrain[1:]"
   ]
  },
  {
   "cell_type": "code",
   "execution_count": 6,
   "id": "ab082625-85fb-4852-8f67-b2b6a492f051",
   "metadata": {},
   "outputs": [
    {
     "name": "stdout",
     "output_type": "stream",
     "text": [
      "['didnt feel humiliate'\n",
      " 'go feel hopeless damn hopeful around someone care awake'\n",
      " 'im grab minute post feel greedy wrong' ... 'feel strong good overall'\n",
      " 'feel like rude comment im glad' 'know lot feel stupid portray']\n"
     ]
    }
   ],
   "source": [
    "from nltk.corpus import stopwords\n",
    "from nltk.tokenize import word_tokenize\n",
    "from nltk.stem.wordnet import WordNetLemmatizer\n",
    "stpwrd=stopwords.words('english')\n",
    "lemma=WordNetLemmatizer()\n",
    "for i in range(len(xtrain)):\n",
    "    sent=xtrain[i]\n",
    "    words=word_tokenize(sent)\n",
    "    words=[lemma.lemmatize(w,'v') for w in words if(w not in stpwrd)]\n",
    "    xtrain[i]=' '.join(words)\n",
    "print(xtrain)"
   ]
  },
  {
   "cell_type": "code",
   "execution_count": 7,
   "id": "17f51657-d48d-4d97-879e-65c933db296c",
   "metadata": {},
   "outputs": [],
   "source": [
    "from sklearn.feature_extraction.text import TfidfVectorizer\n",
    "vectorizer=TfidfVectorizer()\n",
    "xtrain=vectorizer.fit_transform(xtrain)"
   ]
  },
  {
   "cell_type": "code",
   "execution_count": 8,
   "id": "791b19a5-6bea-4ec0-90bf-de6c10a2c1b4",
   "metadata": {},
   "outputs": [
    {
     "name": "stdout",
     "output_type": "stream",
     "text": [
      "[[0. 0. 0. ... 0. 0. 0.]\n",
      " [0. 0. 0. ... 0. 0. 0.]\n",
      " [0. 0. 0. ... 0. 0. 0.]\n",
      " ...\n",
      " [0. 0. 0. ... 0. 0. 0.]\n",
      " [0. 0. 0. ... 0. 0. 0.]\n",
      " [0. 0. 0. ... 0. 0. 0.]]\n"
     ]
    }
   ],
   "source": [
    "xtrain=xtrain.toarray()\n",
    "print(xtrain)"
   ]
  },
  {
   "cell_type": "code",
   "execution_count": 9,
   "id": "00631e2a-4a20-486e-a1bf-f75b1541e307",
   "metadata": {},
   "outputs": [
    {
     "name": "stdout",
     "output_type": "stream",
     "text": [
      "(16000, 12118)\n"
     ]
    }
   ],
   "source": [
    "print(xtrain.shape)\n",
    "ytrain[ytrain==6]=0"
   ]
  },
  {
   "cell_type": "code",
   "execution_count": 10,
   "id": "ee9707b5-a939-4d21-8035-a0da17ff8878",
   "metadata": {},
   "outputs": [
    {
     "name": "stdout",
     "output_type": "stream",
     "text": [
      "[5362 4666 2159 1304  572 1937]\n"
     ]
    }
   ],
   "source": [
    "len(np.unique(ytrain))\n",
    "print(np.bincount(ytrain))"
   ]
  },
  {
   "cell_type": "code",
   "execution_count": 12,
   "id": "abc72e30-1170-45ba-ba0c-9f106d94267f",
   "metadata": {},
   "outputs": [
    {
     "name": "stdout",
     "output_type": "stream",
     "text": [
      "[5362 4666 2159 1304  572 1937]\n"
     ]
    }
   ],
   "source": [
    "print(np.bincount(ytrain))"
   ]
  },
  {
   "cell_type": "code",
   "execution_count": 13,
   "id": "9c261c35-66a9-4b66-98f5-bf214571a278",
   "metadata": {},
   "outputs": [
    {
     "name": "stdout",
     "output_type": "stream",
     "text": [
      "(16000, 12118)\n",
      "(16000,)\n"
     ]
    }
   ],
   "source": [
    "print(xtrain.shape)\n",
    "print(ytrain.shape)"
   ]
  },
  {
   "cell_type": "code",
   "execution_count": 15,
   "id": "c2e20afc-0090-4518-b839-121390017450",
   "metadata": {},
   "outputs": [],
   "source": [
    "from sklearn.model_selection import train_test_split"
   ]
  },
  {
   "cell_type": "code",
   "execution_count": 16,
   "id": "fb563aca-2815-44dd-ba7c-9f9549f4c368",
   "metadata": {},
   "outputs": [],
   "source": [
    "x1,x2,y1,y2=train_test_split(xtrain,ytrain,train_size=.8,random_state=20)"
   ]
  },
  {
   "cell_type": "code",
   "execution_count": 20,
   "id": "5989d813-bc16-4bdc-ae6c-aee31190444d",
   "metadata": {},
   "outputs": [
    {
     "data": {
      "text/plain": [
       "(12800,)"
      ]
     },
     "execution_count": 20,
     "metadata": {},
     "output_type": "execute_result"
    }
   ],
   "source": [
    "y1.shape"
   ]
  },
  {
   "cell_type": "code",
   "execution_count": 21,
   "id": "0de14ba5-f4f4-4feb-b328-83da6b6d7af6",
   "metadata": {},
   "outputs": [],
   "source": [
    "# multi layer percentron classifier\n",
    "from sklearn.neural_network import MLPClassifier\n",
    "mlp_model=MLPClassifier(hidden_layer_sizes=(100,100),alpha=.01,max_iter=100)\n",
    "clf=mlp_model.fit(x1,y1)"
   ]
  },
  {
   "cell_type": "code",
   "execution_count": 35,
   "id": "26f148dc-0ca7-4e53-9c80-c74e3e3a4910",
   "metadata": {},
   "outputs": [],
   "source": [
    "res=clf.predict(x2)"
   ]
  },
  {
   "cell_type": "code",
   "execution_count": 36,
   "id": "56aea557-0f77-4ec9-9a73-94694fd0b547",
   "metadata": {},
   "outputs": [
    {
     "name": "stdout",
     "output_type": "stream",
     "text": [
      "[1069  997  388  251  107  388]\n"
     ]
    }
   ],
   "source": [
    "print(np.bincount(res))"
   ]
  },
  {
   "cell_type": "code",
   "execution_count": 37,
   "id": "789c88e3-36a7-485b-a0c5-2aaa64c785ce",
   "metadata": {},
   "outputs": [
    {
     "name": "stdout",
     "output_type": "stream",
     "text": [
      "[1071  949  421  271  122  366]\n"
     ]
    }
   ],
   "source": [
    "print(np.bincount(y2))"
   ]
  },
  {
   "cell_type": "code",
   "execution_count": 39,
   "id": "01277928-c05f-44ab-bf6f-e0858191081f",
   "metadata": {},
   "outputs": [
    {
     "name": "stdout",
     "output_type": "stream",
     "text": [
      "Accuracy: 0.8275\n"
     ]
    }
   ],
   "source": [
    "print(\"Accuracy:\",clf.score(x2,y2))"
   ]
  },
  {
   "cell_type": "code",
   "execution_count": 40,
   "id": "349582d1-4c98-48c7-a4e5-977c9967f1cd",
   "metadata": {},
   "outputs": [],
   "source": [
    "mlp_model2=MLPClassifier(hidden_layer_sizes=(500,100),alpha=.01,max_iter=100)\n",
    "clf2=mlp_model2.fit(x1,y1)"
   ]
  },
  {
   "cell_type": "code",
   "execution_count": 41,
   "id": "3891d33f-ebb3-4874-9423-f6775eb16e0f",
   "metadata": {},
   "outputs": [
    {
     "name": "stdout",
     "output_type": "stream",
     "text": [
      "Accuracy: 0.835625\n"
     ]
    }
   ],
   "source": [
    "print(\"Accuracy:\",clf2.score(x2,y2))"
   ]
  },
  {
   "cell_type": "markdown",
   "id": "78e07d8c-e8eb-4760-ab54-165f38f01e87",
   "metadata": {},
   "source": [
    "USING SVM KERNELS"
   ]
  },
  {
   "cell_type": "code",
   "execution_count": null,
   "id": "b7d269a8-a307-4a48-8034-1f6e8cb24764",
   "metadata": {},
   "outputs": [],
   "source": [
    "from sklearn import svm\n",
    "clf_svm=svm.SVC(kernel='rbf')\n",
    "clsf=clf_svm.fit(x1,y1)"
   ]
  }
 ],
 "metadata": {
  "kernelspec": {
   "display_name": "Python 3 (ipykernel)",
   "language": "python",
   "name": "python3"
  },
  "language_info": {
   "codemirror_mode": {
    "name": "ipython",
    "version": 3
   },
   "file_extension": ".py",
   "mimetype": "text/x-python",
   "name": "python",
   "nbconvert_exporter": "python",
   "pygments_lexer": "ipython3",
   "version": "3.12.1"
  }
 },
 "nbformat": 4,
 "nbformat_minor": 5
}
