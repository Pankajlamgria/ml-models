{
 "cells": [
  {
   "cell_type": "code",
   "execution_count": 1,
   "id": "ce885e06-8274-4ed2-a369-d560ef284bee",
   "metadata": {},
   "outputs": [],
   "source": [
    "import numpy as np\n",
    "import nltk\n",
    "from nltk.tokenize import sent_tokenize\n",
    "import pandas as pd"
   ]
  },
  {
   "cell_type": "code",
   "execution_count": 2,
   "id": "67d30935-9b71-4616-81e2-e074630b20ce",
   "metadata": {},
   "outputs": [],
   "source": [
    "def load_data():\n",
    "    df=open('./train.txt','r')\n",
    "    text=df.read()\n",
    "    corpus=text.split('\\n')\n",
    "    xtrain=[]\n",
    "    ytrain=[]\n",
    "    for x in corpus:\n",
    "        temp=x.split(';')\n",
    "        if(len(temp)==2):\n",
    "            xtrain.append(temp[0])\n",
    "            ytrain.append(temp[1])\n",
    "    df=pd.DataFrame([xtrain,ytrain])\n",
    "    df.to_csv('./train.csv')\n",
    "    \n",
    "\n",
    "load_data()"
   ]
  },
  {
   "cell_type": "code",
   "execution_count": 3,
   "id": "fc97a51e-9265-4c41-8d25-b28258da330f",
   "metadata": {},
   "outputs": [
    {
     "name": "stdout",
     "output_type": "stream",
     "text": [
      "2000\n",
      "2000\n"
     ]
    }
   ],
   "source": [
    "def processing_test():\n",
    "    df=open('./test.txt','r')\n",
    "    text=df.read()\n",
    "    corpus=text.split('\\n')\n",
    "    xtrain=[]\n",
    "    ytrain=[]\n",
    "    for x in corpus:\n",
    "        temp=x.split(';')\n",
    "        if(len(temp)==2):\n",
    "            xtrain.append(temp[0])\n",
    "            ytrain.append(temp[1])\n",
    "    print(len(xtrain))\n",
    "    print(len(ytrain))\n",
    "    df=pd.DataFrame([xtrain,ytrain])\n",
    "    df.to_csv('./test.csv')\n",
    "\n",
    "processing_test()\n"
   ]
  },
  {
   "cell_type": "code",
   "execution_count": 4,
   "id": "65cc0095-93e8-4d98-b8b9-01ac19964fa8",
   "metadata": {},
   "outputs": [
    {
     "name": "stdout",
     "output_type": "stream",
     "text": [
      "[0 'i didnt feel humiliated'\n",
      " 'i can go from feeling so hopeless to so damned hopeful just from being around someone who cares and is awake'\n",
      " ... 'i feel strong and good overall'\n",
      " 'i feel like this was such a rude comment and im glad that t'\n",
      " 'i know a lot but i feel so stupid because i can not portray it']\n"
     ]
    }
   ],
   "source": [
    "def load():\n",
    "    df=pd.read_csv(\"./train.csv\")\n",
    "    xtrain=df.iloc[0]\n",
    "    ytrain=df.iloc[1]\n",
    "    ytrain=ytrain.replace(['sadness','anger','love','surprise','fear','joy'],[1,2,3,4,5,6])\n",
    "    return np.array(xtrain),np.array(ytrain)\n",
    "xtrain,ytrain=load()\n",
    "print(xtrain)"
   ]
  },
  {
   "cell_type": "code",
   "execution_count": 5,
   "id": "7ad6c13d-8482-45d4-b582-8cb3e3d1e0f7",
   "metadata": {},
   "outputs": [],
   "source": [
    "xtrain=xtrain[1:]\n",
    "ytrain=ytrain[1:]"
   ]
  },
  {
   "cell_type": "code",
   "execution_count": 6,
   "id": "ab082625-85fb-4852-8f67-b2b6a492f051",
   "metadata": {},
   "outputs": [
    {
     "name": "stdout",
     "output_type": "stream",
     "text": [
      "['didnt feel humiliate'\n",
      " 'go feel hopeless damn hopeful around someone care awake'\n",
      " 'im grab minute post feel greedy wrong' ... 'feel strong good overall'\n",
      " 'feel like rude comment im glad' 'know lot feel stupid portray']\n"
     ]
    }
   ],
   "source": [
    "from nltk.corpus import stopwords\n",
    "from nltk.tokenize import word_tokenize\n",
    "from nltk.stem.wordnet import WordNetLemmatizer\n",
    "stpwrd=stopwords.words('english')\n",
    "lemma=WordNetLemmatizer()\n",
    "for i in range(len(xtrain)):\n",
    "    sent=xtrain[i]\n",
    "    words=word_tokenize(sent)\n",
    "    words=[lemma.lemmatize(w,'v') for w in words if(w not in stpwrd)]\n",
    "    xtrain[i]=' '.join(words)\n",
    "print(xtrain)"
   ]
  },
  {
   "cell_type": "code",
   "execution_count": 7,
   "id": "17f51657-d48d-4d97-879e-65c933db296c",
   "metadata": {},
   "outputs": [],
   "source": [
    "from sklearn.feature_extraction.text import TfidfVectorizer\n",
    "vectorizer=TfidfVectorizer()\n",
    "xtrain=vectorizer.fit_transform(xtrain)"
   ]
  },
  {
   "cell_type": "code",
   "execution_count": 67,
   "id": "791b19a5-6bea-4ec0-90bf-de6c10a2c1b4",
   "metadata": {},
   "outputs": [
    {
     "ename": "AttributeError",
     "evalue": "'numpy.ndarray' object has no attribute 'toarray'",
     "output_type": "error",
     "traceback": [
      "\u001b[1;31m---------------------------------------------------------------------------\u001b[0m",
      "\u001b[1;31mAttributeError\u001b[0m                            Traceback (most recent call last)",
      "Cell \u001b[1;32mIn[67], line 1\u001b[0m\n\u001b[1;32m----> 1\u001b[0m xtrain\u001b[38;5;241m=\u001b[39m\u001b[43mxtrain\u001b[49m\u001b[38;5;241;43m.\u001b[39;49m\u001b[43mtoarray\u001b[49m()\n\u001b[0;32m      2\u001b[0m \u001b[38;5;28mprint\u001b[39m(xtrain)\n",
      "\u001b[1;31mAttributeError\u001b[0m: 'numpy.ndarray' object has no attribute 'toarray'"
     ]
    }
   ],
   "source": [
    "xtrain=xtrain.toarray()\n",
    "print(xtrain)"
   ]
  },
  {
   "cell_type": "code",
   "execution_count": 9,
   "id": "00631e2a-4a20-486e-a1bf-f75b1541e307",
   "metadata": {},
   "outputs": [
    {
     "name": "stdout",
     "output_type": "stream",
     "text": [
      "(16000, 12118)\n"
     ]
    }
   ],
   "source": [
    "print(xtrain.shape)\n",
    "ytrain[ytrain==6]=0"
   ]
  },
  {
   "cell_type": "code",
   "execution_count": 10,
   "id": "ee9707b5-a939-4d21-8035-a0da17ff8878",
   "metadata": {},
   "outputs": [
    {
     "name": "stdout",
     "output_type": "stream",
     "text": [
      "[5362 4666 2159 1304  572 1937]\n"
     ]
    }
   ],
   "source": [
    "len(np.unique(ytrain))\n",
    "print(np.bincount(ytrain))"
   ]
  },
  {
   "cell_type": "code",
   "execution_count": 11,
   "id": "abc72e30-1170-45ba-ba0c-9f106d94267f",
   "metadata": {},
   "outputs": [
    {
     "name": "stdout",
     "output_type": "stream",
     "text": [
      "[5362 4666 2159 1304  572 1937]\n"
     ]
    }
   ],
   "source": [
    "print(np.bincount(ytrain))"
   ]
  },
  {
   "cell_type": "code",
   "execution_count": 12,
   "id": "9c261c35-66a9-4b66-98f5-bf214571a278",
   "metadata": {},
   "outputs": [
    {
     "name": "stdout",
     "output_type": "stream",
     "text": [
      "(16000, 12118)\n",
      "(16000,)\n"
     ]
    }
   ],
   "source": [
    "print(xtrain.shape)\n",
    "print(ytrain.shape)"
   ]
  },
  {
   "cell_type": "code",
   "execution_count": 17,
   "id": "c2e20afc-0090-4518-b839-121390017450",
   "metadata": {},
   "outputs": [],
   "source": [
    "from sklearn.preprocessing import StandardScaler\n",
    "from sklearn.model_selection import train_test_split"
   ]
  },
  {
   "cell_type": "code",
   "execution_count": 50,
   "id": "a08b94b8-5ffa-4592-b3ac-96cba6a7e33f",
   "metadata": {},
   "outputs": [
    {
     "name": "stdout",
     "output_type": "stream",
     "text": [
      "[[-0.0135433  -0.00790594 -0.00790594 ... -0.00790594 -0.01363595\n",
      "  -0.00790594]\n",
      " [-0.0135433  -0.00790594 -0.00790594 ... -0.00790594 -0.01363595\n",
      "  -0.00790594]\n",
      " [-0.0135433  -0.00790594 -0.00790594 ... -0.00790594 -0.01363595\n",
      "  -0.00790594]\n",
      " ...\n",
      " [-0.0135433  -0.00790594 -0.00790594 ... -0.00790594 -0.01363595\n",
      "  -0.00790594]\n",
      " [-0.0135433  -0.00790594 -0.00790594 ... -0.00790594 -0.01363595\n",
      "  -0.00790594]\n",
      " [-0.0135433  -0.00790594 -0.00790594 ... -0.00790594 -0.01363595\n",
      "  -0.00790594]]\n"
     ]
    }
   ],
   "source": [
    "sc=StandardScaler()\n",
    "xtrain=sc.fit_transform(xtrain)\n",
    "print(xtrain)"
   ]
  },
  {
   "cell_type": "code",
   "execution_count": 51,
   "id": "fb563aca-2815-44dd-ba7c-9f9549f4c368",
   "metadata": {},
   "outputs": [],
   "source": [
    "x1,x2,y1,y2=train_test_split(xtrain,ytrain,train_size=.8,random_state=20)"
   ]
  },
  {
   "cell_type": "code",
   "execution_count": 52,
   "id": "5989d813-bc16-4bdc-ae6c-aee31190444d",
   "metadata": {},
   "outputs": [
    {
     "data": {
      "text/plain": [
       "(12800,)"
      ]
     },
     "execution_count": 52,
     "metadata": {},
     "output_type": "execute_result"
    }
   ],
   "source": [
    "y1.shape"
   ]
  },
  {
   "cell_type": "code",
   "execution_count": 53,
   "id": "20d2e3a9-2caf-4eac-8c46-9fd65c3f508f",
   "metadata": {},
   "outputs": [
    {
     "name": "stdout",
     "output_type": "stream",
     "text": [
      "(12800, 12118)\n",
      "[4291 3717 1738 1033  450 1571]\n",
      "[0 1 2 3 4 5]\n"
     ]
    }
   ],
   "source": [
    "print(x1.shape)\n",
    "print(np.bincount(y1))\n",
    "print(np.unique(y1))"
   ]
  },
  {
   "cell_type": "code",
   "execution_count": 57,
   "id": "f80d8540-f1a6-4e61-ad2b-8d3991c8407f",
   "metadata": {},
   "outputs": [],
   "source": [
    "import numpy as np\n",
    "import pandas as pd\n",
    "\n",
    "def var_creation(x):\n",
    "    row,col=x.shape\n",
    "    w1=np.random.randn(100,row)*np.sqrt(2/row)\n",
    "    b1=np.random.randn(100,1)*np.sqrt(2/row)\n",
    "    w2=np.random.randn(6,100)*np.sqrt(2/100)\n",
    "    b2=np.random.randn(6,1)*np.sqrt(2/100)\n",
    "    return w1,b1,w2,b2\n",
    "def relu(z1):\n",
    "    return np.maximum(z1,0)\n",
    "def softmax(z2):\n",
    "    return np.exp(z2)/sum(np.exp(z2))\n",
    "def forward_propogation(x,w1,b1,w2,b2):\n",
    "    z1=w1.dot(x)+b1\n",
    "    a1=relu(z1)\n",
    "    z2=w2.dot(a1)+b2\n",
    "    a2=softmax(z2)\n",
    "    return z1,a1,z2,a2\n",
    "def onehot(y):\n",
    "    output=np.zeros((6,len(y)))\n",
    "    for i in range(len(y)):\n",
    "        output[y[i]][i]=1\n",
    "    return output\n",
    "def deri_relu(z1):\n",
    "    return z1>0\n",
    "def backward_propogation(w2,y,a1,z1,a2,z2,x):\n",
    "    onehot_y=onehot(y)\n",
    "    sample=x.shape[1]\n",
    "    dl2=a2-onehot_y\n",
    "    dl1=(((w2.T).dot(dl2))*deri_relu(z1))\n",
    "    dj_w2=(1/sample)*(dl2.dot(a1.T))\n",
    "    dj_b2=(1/sample)*np.sum(dl2,axis=1).reshape(6,1)\n",
    "    dj_w1=(1/sample)*dl1.dot(x.T)\n",
    "    dj_b1=(1/sample)*np.sum(dl1,axis=1).reshape(100,1)\n",
    "    return dj_w2,dj_b2,dj_w1,dj_b1\n",
    "\n",
    "def update_params(w1,w2,b1,b2,alpha,dj_w2,dj_b2,dj_w1,dj_b1):\n",
    "    w1=w1-alpha*(dj_w1)\n",
    "    b1=b1-alpha*(dj_b1)\n",
    "    w2=w2-alpha*(dj_w2)\n",
    "    b2=b2-alpha*(dj_b2)\n",
    "    return w1,b1,w2,b2\n",
    "\n",
    "def calc_acc(pred,y):\n",
    "    pred=pred.T\n",
    "    pred_res=[np.argmax(x) for x in pred]\n",
    "    print(np.bincount(pred_res))\n",
    "    print(np.sum(pred_res==y)/len(y))\n",
    "    \n",
    "def gradient(epoc,alpha,x,y):\n",
    "    b=.9\n",
    "    w1,b1,w2,b2=var_creation(x)\n",
    "    v1,v2=0,0\n",
    "    for _ in range(epoc):\n",
    "        z1,a1,z2,a2=forward_propogation(x,w1,b1,w2,b2)\n",
    "        dj_w2,dj_b2,dj_w1,dj_b1=backward_propogation(w2,y,a1,z1,a2,z2,x)\n",
    "        v1=b*v1+(1-b)*dj_w1\n",
    "        v2=b*v2+(1-b)*dj_w2\n",
    "        w1,b1,w2,b2=update_params(w1,w2,b1,b2,alpha,v2,dj_b2,v1,dj_b1)\n",
    "        if(_%10==0):\n",
    "            calc_acc(a2,y)\n",
    "    return w1,b1,w2,b2\n",
    "\n"
   ]
  },
  {
   "cell_type": "code",
   "execution_count": 64,
   "id": "b93f9cf2-c701-43a1-98ae-1bba98e66fd0",
   "metadata": {},
   "outputs": [
    {
     "name": "stdout",
     "output_type": "stream",
     "text": [
      "[2161 2989  157 4374 2703  416]\n",
      "0.166484375\n",
      "[3807 4138  270 2524 1505  556]\n",
      "0.246640625\n",
      "[5608 4733  435  926  452  646]\n",
      "0.35125\n",
      "[5811 4868  701  459  148  813]\n",
      "0.42890625\n",
      "[5426 4900 1020  370   90  994]\n",
      "0.502734375\n",
      "[5219 4762 1238  402   65 1114]\n",
      "0.5759375\n",
      "[5224 4618 1272  455   72 1159]\n",
      "0.64140625\n",
      "[5227 4546 1275  507   75 1170]\n",
      "0.6978125\n",
      "[5165 4490 1285  577   94 1189]\n",
      "0.74390625\n",
      "[5101 4425 1317  627  112 1218]\n",
      "0.7815625\n",
      "[5018 4368 1368  653  127 1266]\n",
      "0.81140625\n",
      "[4953 4304 1434  677  145 1287]\n",
      "0.834453125\n",
      "[4869 4245 1482  709  170 1325]\n",
      "0.857890625\n",
      "[4791 4192 1521  738  185 1373]\n",
      "0.8771875\n",
      "[4730 4138 1544  772  208 1408]\n",
      "0.89265625\n",
      "[4680 4091 1570  798  226 1435]\n",
      "0.905234375\n",
      "[4627 4051 1595  817  253 1457]\n",
      "0.91609375\n",
      "[4594 4020 1616  830  274 1466]\n",
      "0.92390625\n"
     ]
    }
   ],
   "source": [
    "xtrain_temp=x1.T\n",
    "w1,b1,w2,b2=gradient(180,.02,xtrain_temp,y1)"
   ]
  },
  {
   "cell_type": "code",
   "execution_count": 65,
   "id": "821a0a38-bdc5-4af8-a26f-b76e2712fb88",
   "metadata": {},
   "outputs": [
    {
     "name": "stdout",
     "output_type": "stream",
     "text": [
      "[[-0.01993365 -0.01073839 -0.00868795 ...  0.00033719  0.00690864\n",
      "   0.02814274]\n",
      " [ 0.00405608  0.00350373  0.01332168 ... -0.01589763 -0.00344752\n",
      "  -0.00256196]\n",
      " [-0.0012343  -0.00553418 -0.01545036 ... -0.00844522  0.01384931\n",
      "  -0.02414283]\n",
      " ...\n",
      " [-0.00795813  0.00889641  0.00113047 ...  0.01614534  0.0198948\n",
      "  -0.01619456]\n",
      " [ 0.00092256  0.0069544   0.01280045 ...  0.01380648  0.02362708\n",
      "  -0.0013271 ]\n",
      " [-0.01410275 -0.00949606 -0.00565828 ... -0.00605556 -0.01027954\n",
      "  -0.02803557]]\n"
     ]
    }
   ],
   "source": [
    "print(w1)"
   ]
  },
  {
   "cell_type": "code",
   "execution_count": 68,
   "id": "44cd19cb-3e63-4f1e-b820-d89a3e491bff",
   "metadata": {},
   "outputs": [
    {
     "name": "stdout",
     "output_type": "stream",
     "text": [
      "[1071  949  421  271  122  366]\n",
      "[1336 1090  331  146   36  261]\n",
      "0.5834375\n"
     ]
    }
   ],
   "source": [
    "z1,a1,z2,a2=forward_propogation(x2.T,w1,b1,w2,b2)\n",
    "print(np.bincount(y2))\n",
    "calc_acc(a2,y2)"
   ]
  },
  {
   "cell_type": "code",
   "execution_count": null,
   "id": "bb6ff3f9-3d41-4c98-a471-95a7a27b6e9f",
   "metadata": {},
   "outputs": [],
   "source": []
  }
 ],
 "metadata": {
  "kernelspec": {
   "display_name": "Python 3 (ipykernel)",
   "language": "python",
   "name": "python3"
  },
  "language_info": {
   "codemirror_mode": {
    "name": "ipython",
    "version": 3
   },
   "file_extension": ".py",
   "mimetype": "text/x-python",
   "name": "python",
   "nbconvert_exporter": "python",
   "pygments_lexer": "ipython3",
   "version": "3.12.1"
  }
 },
 "nbformat": 4,
 "nbformat_minor": 5
}
