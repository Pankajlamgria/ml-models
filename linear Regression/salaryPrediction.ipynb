{
  "cells": [
    {
      "cell_type": "code",
      "execution_count": 1,
      "metadata": {
        "id": "-m3AWUh9981-"
      },
      "outputs": [],
      "source": [
        "import numpy as np\n",
        "import pandas as pd\n",
        "from sklearn.model_selection import train_test_split\n",
        "from sklearn.preprocessing import StandardScaler"
      ]
    },
    {
      "cell_type": "code",
      "execution_count": 2,
      "metadata": {
        "colab": {
          "base_uri": "https://localhost:8080/"
        },
        "id": "1far7GVc_0Wd",
        "outputId": "8d54a986-4890-46e3-c054-b2d698508a7b"
      },
      "outputs": [
        {
          "name": "stdout",
          "output_type": "stream",
          "text": [
            "    Age  Gender Education Level              Job Title  Years of Experience  \\\n",
            "0  32.0    Male      Bachelor's      Software Engineer                  5.0   \n",
            "1  28.0  Female        Master's           Data Analyst                  3.0   \n",
            "2  45.0    Male             PhD         Senior Manager                 15.0   \n",
            "3  36.0  Female      Bachelor's        Sales Associate                  7.0   \n",
            "4  52.0    Male        Master's               Director                 20.0   \n",
            "5  29.0    Male      Bachelor's      Marketing Analyst                  2.0   \n",
            "6  42.0  Female        Master's        Product Manager                 12.0   \n",
            "7  31.0    Male      Bachelor's          Sales Manager                  4.0   \n",
            "8  26.0  Female      Bachelor's  Marketing Coordinator                  1.0   \n",
            "9  38.0    Male             PhD       Senior Scientist                 10.0   \n",
            "\n",
            "     Salary  \n",
            "0   90000.0  \n",
            "1   65000.0  \n",
            "2  150000.0  \n",
            "3   60000.0  \n",
            "4  200000.0  \n",
            "5   55000.0  \n",
            "6  120000.0  \n",
            "7   80000.0  \n",
            "8   45000.0  \n",
            "9  110000.0  \n",
            "Age                    float64\n",
            "Gender                  object\n",
            "Education Level         object\n",
            "Job Title               object\n",
            "Years of Experience    float64\n",
            "Salary                 float64\n",
            "dtype: object\n"
          ]
        }
      ],
      "source": [
        "df=pd.read_csv(\"/content/Salary Data.csv\")\n",
        "print(df.head(10))\n",
        "print(df.dtypes)"
      ]
    },
    {
      "cell_type": "code",
      "execution_count": 3,
      "metadata": {
        "colab": {
          "base_uri": "https://localhost:8080/"
        },
        "id": "xLd1onqF_0UF",
        "outputId": "447d3f23-c229-43ef-b864-be9e8fdb8a4d"
      },
      "outputs": [
        {
          "name": "stdout",
          "output_type": "stream",
          "text": [
            "<class 'pandas.core.frame.DataFrame'>\n",
            "RangeIndex: 375 entries, 0 to 374\n",
            "Data columns (total 6 columns):\n",
            " #   Column               Non-Null Count  Dtype  \n",
            "---  ------               --------------  -----  \n",
            " 0   Age                  373 non-null    float64\n",
            " 1   Gender               373 non-null    object \n",
            " 2   Education Level      373 non-null    object \n",
            " 3   Job Title            373 non-null    object \n",
            " 4   Years of Experience  373 non-null    float64\n",
            " 5   Salary               373 non-null    float64\n",
            "dtypes: float64(3), object(3)\n",
            "memory usage: 17.7+ KB\n",
            "None\n"
          ]
        }
      ],
      "source": [
        "print(df.info())"
      ]
    },
    {
      "cell_type": "code",
      "execution_count": 4,
      "metadata": {
        "colab": {
          "base_uri": "https://localhost:8080/"
        },
        "id": "CU1A43f8_0Rk",
        "outputId": "fe72cdaa-96b9-434f-c364-80f3e8c39f7b"
      },
      "outputs": [
        {
          "name": "stdout",
          "output_type": "stream",
          "text": [
            "Gender\n",
            "Male      194\n",
            "Female    179\n",
            "Name: count, dtype: int64\n"
          ]
        }
      ],
      "source": [
        "print(df['Gender'].value_counts())"
      ]
    },
    {
      "cell_type": "code",
      "execution_count": 5,
      "metadata": {
        "id": "VsL5wOUi_0O0"
      },
      "outputs": [],
      "source": [
        "df['Gender']=df['Gender'].replace('Male',1)\n",
        "df['Gender']=df['Gender'].replace('Female',2)"
      ]
    },
    {
      "cell_type": "code",
      "execution_count": 6,
      "metadata": {
        "colab": {
          "base_uri": "https://localhost:8080/"
        },
        "id": "g5FczeBKDtL5",
        "outputId": "464ed96a-43a7-4bd9-c72f-b78da51c23f5"
      },
      "outputs": [
        {
          "name": "stdout",
          "output_type": "stream",
          "text": [
            "Gender\n",
            "1.0    194\n",
            "2.0    179\n",
            "Name: count, dtype: int64\n"
          ]
        }
      ],
      "source": [
        "print(df['Gender'].value_counts())"
      ]
    },
    {
      "cell_type": "code",
      "execution_count": 7,
      "metadata": {
        "colab": {
          "base_uri": "https://localhost:8080/"
        },
        "id": "mHhAbAizD1mB",
        "outputId": "8e1a50f2-2bd2-4e03-c3f6-606f7d8c70f8"
      },
      "outputs": [
        {
          "name": "stdout",
          "output_type": "stream",
          "text": [
            "Education Level\n",
            "Bachelor's    224\n",
            "Master's       98\n",
            "PhD            51\n",
            "Name: count, dtype: int64\n"
          ]
        }
      ],
      "source": [
        "print(df['Education Level'].value_counts())"
      ]
    },
    {
      "cell_type": "code",
      "execution_count": 16,
      "metadata": {
        "id": "rbermCU4D6gY"
      },
      "outputs": [],
      "source": [
        "df['Education Level']=df['Education Level'].replace('Bachelor\\'s',1)\n",
        "df['Education Level']=df['Education Level'].replace('Master\\'s',2)\n",
        "df['Education Level']=df['Education Level'].replace('PhD',3)\n"
      ]
    },
    {
      "cell_type": "code",
      "execution_count": 17,
      "metadata": {
        "colab": {
          "base_uri": "https://localhost:8080/"
        },
        "id": "p_zly1cvEN1A",
        "outputId": "c5133150-dfcd-4506-82b2-fb5a757caa58"
      },
      "outputs": [
        {
          "name": "stdout",
          "output_type": "stream",
          "text": [
            "<class 'pandas.core.frame.DataFrame'>\n",
            "Index: 373 entries, 0 to 374\n",
            "Data columns (total 6 columns):\n",
            " #   Column               Non-Null Count  Dtype\n",
            "---  ------               --------------  -----\n",
            " 0   Age                  373 non-null    bool \n",
            " 1   Gender               373 non-null    bool \n",
            " 2   Education Level      373 non-null    bool \n",
            " 3   Job Title            373 non-null    bool \n",
            " 4   Years of Experience  373 non-null    bool \n",
            " 5   Salary               373 non-null    bool \n",
            "dtypes: bool(6)\n",
            "memory usage: 5.1 KB\n",
            "None\n"
          ]
        }
      ],
      "source": [
        "df=df.dropna()\n",
        "print(df.isnull().info())"
      ]
    },
    {
      "cell_type": "code",
      "execution_count": 18,
      "metadata": {
        "colab": {
          "base_uri": "https://localhost:8080/"
        },
        "id": "fTcp7HO7EP6x",
        "outputId": "28994122-7e5d-4668-bf45-a56a16cfc97b"
      },
      "outputs": [
        {
          "name": "stdout",
          "output_type": "stream",
          "text": [
            "[  0   1   2   3   4   5   6   7   8   9  10  11  12  13  14  15  16  17\n",
            "  18  19  20  21  22  23  24  25  26  27  28  29  30  31  32  33  34  35\n",
            "  36  37  38  39  40  41  42  43  44  45  46  47  48  49  50  51  52  53\n",
            "  54  55  56  57  58  59  60  61  62  63  64  65  66  67  68  69  70  71\n",
            "  72  73  74  75  76  77  78  79  80  81  82  83  84  85  86  87  88  89\n",
            "  90  91  92  93  94  95  96  97  98  99 100 101 102 103 104 105 106 107\n",
            " 108 109 110 111 112 113 114 115 116 117 118 119 120 121 122 123 124 125\n",
            " 126 127 128 129 130 131 132 133 134 135 136 137 138 139 140 141 142 143\n",
            " 144 145 146 147 148 149 150 151 152 153 154 155 156 157 158 159 160 161\n",
            " 162 163 164 165 166 167 168 169 170 171 172 173]\n"
          ]
        }
      ],
      "source": [
        "jobTitle=np.unique(np.array(df['Job Title']))\n",
        "df=df.dropna()\n",
        "print(jobTitle)"
      ]
    },
    {
      "cell_type": "code",
      "execution_count": 19,
      "metadata": {
        "id": "S6n2OWJEEpum"
      },
      "outputs": [],
      "source": [
        "for i in range(0,len(jobTitle)):\n",
        "  df['Job Title']=df['Job Title'].replace(jobTitle[i],i)"
      ]
    },
    {
      "cell_type": "code",
      "execution_count": 20,
      "metadata": {
        "colab": {
          "base_uri": "https://localhost:8080/"
        },
        "id": "wEp2Y9z2HEAW",
        "outputId": "809a3ed9-a1fd-44e9-9b25-29fc358c9f04"
      },
      "outputs": [
        {
          "name": "stdout",
          "output_type": "stream",
          "text": [
            "<class 'pandas.core.frame.DataFrame'>\n",
            "Index: 373 entries, 0 to 374\n",
            "Data columns (total 6 columns):\n",
            " #   Column               Non-Null Count  Dtype  \n",
            "---  ------               --------------  -----  \n",
            " 0   Age                  373 non-null    float64\n",
            " 1   Gender               373 non-null    float64\n",
            " 2   Education Level      373 non-null    int64  \n",
            " 3   Job Title            373 non-null    int64  \n",
            " 4   Years of Experience  373 non-null    float64\n",
            " 5   Salary               373 non-null    float64\n",
            "dtypes: float64(4), int64(2)\n",
            "memory usage: 20.4 KB\n",
            "None\n"
          ]
        }
      ],
      "source": [
        "print(df.info())"
      ]
    },
    {
      "cell_type": "code",
      "execution_count": 21,
      "metadata": {
        "colab": {
          "base_uri": "https://localhost:8080/"
        },
        "id": "184KuEfhHQnP",
        "outputId": "71c72dce-d348-402b-eacc-f0496fa74a81"
      },
      "outputs": [
        {
          "name": "stdout",
          "output_type": "stream",
          "text": [
            "      Age  Gender  Education Level  Job Title  Years of Experience    Salary\n",
            "0    32.0     1.0                1        159                  5.0   90000.0\n",
            "1    28.0     2.0                2         17                  3.0   65000.0\n",
            "2    45.0     1.0                3        130                 15.0  150000.0\n",
            "3    36.0     2.0                1        101                  7.0   60000.0\n",
            "4    52.0     1.0                2         22                 20.0  200000.0\n",
            "..    ...     ...              ...        ...                  ...       ...\n",
            "370  35.0     2.0                1        131                  8.0   85000.0\n",
            "371  43.0     1.0                2         30                 19.0  170000.0\n",
            "372  29.0     2.0                1         70                  2.0   40000.0\n",
            "373  34.0     1.0                1        137                  7.0   90000.0\n",
            "374  44.0     2.0                3        110                 15.0  150000.0\n",
            "\n",
            "[373 rows x 6 columns]\n"
          ]
        }
      ],
      "source": [
        "print(df)"
      ]
    },
    {
      "cell_type": "code",
      "execution_count": 22,
      "metadata": {
        "id": "oBK99zF7HT-Y"
      },
      "outputs": [],
      "source": [
        "y=df['Salary']\n",
        "x=df.drop('Salary',axis=1)"
      ]
    },
    {
      "cell_type": "code",
      "execution_count": 23,
      "metadata": {
        "colab": {
          "base_uri": "https://localhost:8080/"
        },
        "id": "awtNUvmyuOxm",
        "outputId": "67067121-fa4f-4122-ab6d-eb2f65062f89"
      },
      "outputs": [
        {
          "name": "stdout",
          "output_type": "stream",
          "text": [
            "      Age  Gender  Education Level  Job Title  Years of Experience\n",
            "0    32.0     1.0                1        159                  5.0\n",
            "1    28.0     2.0                2         17                  3.0\n",
            "2    45.0     1.0                3        130                 15.0\n",
            "3    36.0     2.0                1        101                  7.0\n",
            "4    52.0     1.0                2         22                 20.0\n",
            "..    ...     ...              ...        ...                  ...\n",
            "370  35.0     2.0                1        131                  8.0\n",
            "371  43.0     1.0                2         30                 19.0\n",
            "372  29.0     2.0                1         70                  2.0\n",
            "373  34.0     1.0                1        137                  7.0\n",
            "374  44.0     2.0                3        110                 15.0\n",
            "\n",
            "[373 rows x 5 columns] 0       90000.0\n",
            "1       65000.0\n",
            "2      150000.0\n",
            "3       60000.0\n",
            "4      200000.0\n",
            "         ...   \n",
            "370     85000.0\n",
            "371    170000.0\n",
            "372     40000.0\n",
            "373     90000.0\n",
            "374    150000.0\n",
            "Name: Salary, Length: 373, dtype: float64\n"
          ]
        }
      ],
      "source": [
        "print(x,y)"
      ]
    },
    {
      "cell_type": "code",
      "execution_count": null,
      "metadata": {
        "id": "6zVt1vgYy-Pn"
      },
      "outputs": [],
      "source": []
    },
    {
      "cell_type": "code",
      "execution_count": 24,
      "metadata": {
        "id": "3bo4u2tGuRzg"
      },
      "outputs": [],
      "source": [
        "xtrain,xtest,ytrain,ytest=train_test_split(x,y,train_size=.8,random_state=40)\n",
        "sc=StandardScaler()\n",
        "xtrain=sc.fit_transform(xtrain)\n",
        "xtest=sc.fit_transform(xtest)\n"
      ]
    },
    {
      "cell_type": "code",
      "execution_count": 25,
      "metadata": {
        "colab": {
          "base_uri": "https://localhost:8080/"
        },
        "id": "ZwSDmgOgvEPj",
        "outputId": "e388240f-b598-4820-a37b-63928b1c558b"
      },
      "outputs": [
        {
          "name": "stdout",
          "output_type": "stream",
          "text": [
            "[[-0.49565385 -0.92870878 -0.7517962   1.07961872 -0.47714212]\n",
            " [-0.63499805 -0.92870878  0.6059933   1.01470655 -0.47714212]\n",
            " [-1.19237483 -0.92870878 -0.7517962  -0.86774655 -1.30250985]\n",
            " [ 1.73385328  1.0767638   0.6059933  -1.43031873  1.47372708]\n",
            " [-0.63499805 -0.92870878 -0.7517962   1.05798133 -0.47714212]\n",
            " [ 1.59450909  1.0767638   0.6059933   0.66850828  1.32366022]\n",
            " [-1.05303063  1.0767638  -0.7517962  -1.53850569 -1.07740956]\n",
            " [ 1.3158207  -0.92870878  0.6059933   1.72874048  1.32366022]\n",
            " [ 0.75844391  1.0767638   1.96378281  0.51704654  0.72339277]\n",
            " [-0.35630966 -0.92870878 -0.7517962   0.6035961  -0.1770084 ]] 193     95000.0\n",
            "157    115000.0\n",
            "259       350.0\n",
            "170    180000.0\n",
            "222    100000.0\n",
            "102    150000.0\n",
            "106     50000.0\n",
            "53     200000.0\n",
            "326    150000.0\n",
            "284    100000.0\n",
            "Name: Salary, dtype: float64\n"
          ]
        }
      ],
      "source": [
        "print(xtrain[0:10],ytrain[:10])"
      ]
    },
    {
      "cell_type": "code",
      "execution_count": 26,
      "metadata": {
        "colab": {
          "base_uri": "https://localhost:8080/"
        },
        "id": "9hhJRTpJvI1R",
        "outputId": "28fa4c67-8ee0-44d4-aa7c-297bc9429c24"
      },
      "outputs": [
        {
          "name": "stdout",
          "output_type": "stream",
          "text": [
            "(298, 5)\n",
            "(298,)\n"
          ]
        }
      ],
      "source": [
        "print(xtrain.shape)\n",
        "print(ytrain.shape)"
      ]
    },
    {
      "cell_type": "code",
      "execution_count": 27,
      "metadata": {
        "id": "aYrE_PBszlSt"
      },
      "outputs": [],
      "source": [
        "x0=np.ones((xtrain.shape[0],1))\n",
        "xtrain=np.hstack((x0,xtrain))\n",
        "x0=np.ones((xtest.shape[0],1))\n",
        "xtest=np.hstack((x0,xtest))"
      ]
    },
    {
      "cell_type": "code",
      "execution_count": 28,
      "metadata": {
        "colab": {
          "base_uri": "https://localhost:8080/"
        },
        "id": "g4s3X3-k0C-F",
        "outputId": "d42752d3-2057-4e97-cce5-a75a43105ce2"
      },
      "outputs": [
        {
          "name": "stdout",
          "output_type": "stream",
          "text": [
            "(298, 6)\n",
            "(75, 6)\n"
          ]
        }
      ],
      "source": [
        "print(xtrain.shape)\n",
        "print(xtest.shape)"
      ]
    },
    {
      "cell_type": "code",
      "execution_count": 39,
      "metadata": {
        "colab": {
          "base_uri": "https://localhost:8080/"
        },
        "id": "y2oaEXaDvcB9",
        "outputId": "669ddc58-3d2e-48b0-d7b7-3ad7cd9315a3"
      },
      "outputs": [
        {
          "name": "stdout",
          "output_type": "stream",
          "text": [
            "[[0.]\n",
            " [0.]\n",
            " [0.]\n",
            " [0.]\n",
            " [0.]\n",
            " [0.]]\n"
          ]
        }
      ],
      "source": [
        "# Q=np.random.randn(xtrain.shape[1],1)\n",
        "Q=np.zeros((xtrain.shape[1],1))\n",
        "print(Q)"
      ]
    },
    {
      "cell_type": "code",
      "execution_count": 30,
      "metadata": {
        "id": "MDEd8ehd0QLr"
      },
      "outputs": [],
      "source": [
        "alpha=.001\n",
        "epoc=100"
      ]
    },
    {
      "cell_type": "code",
      "execution_count": 31,
      "metadata": {
        "colab": {
          "base_uri": "https://localhost:8080/"
        },
        "id": "7sB3gyad8Kww",
        "outputId": "e82a6789-deab-4862-e786-99926cee4c39"
      },
      "outputs": [
        {
          "name": "stdout",
          "output_type": "stream",
          "text": [
            "(298, 1) (75, 1)\n"
          ]
        }
      ],
      "source": [
        "ytrain=np.array(ytrain)\n",
        "ytest=np.array(ytest)\n",
        "ytrain=ytrain.reshape(ytrain.shape[0],1)\n",
        "ytest=ytest.reshape(ytest.shape[0],1)\n",
        "print(ytrain.shape,ytest.shape)"
      ]
    },
    {
      "cell_type": "code",
      "execution_count": 32,
      "metadata": {
        "id": "6c52_Cym9IGN"
      },
      "outputs": [],
      "source": [
        "def CalcCost(val):\n",
        "  print(np.sum(val))"
      ]
    },
    {
      "cell_type": "code",
      "execution_count": 38,
      "metadata": {
        "id": "aHyG_CqTBTxU"
      },
      "outputs": [],
      "source": [
        "def acc(hq,ytrain):\n",
        "  print(hq[0:10])\n",
        "  print(ytrain[0:10])\n",
        "  print(\"\\nnewline\\n\")"
      ]
    },
    {
      "cell_type": "code",
      "execution_count": 49,
      "metadata": {
        "colab": {
          "base_uri": "https://localhost:8080/"
        },
        "id": "RFcCjgMU3xlJ",
        "outputId": "3dba39e3-77a9-437f-c468-25ce87149249"
      },
      "outputs": [
        {
          "name": "stdout",
          "output_type": "stream",
          "text": [
            "[[ 79110.74398883]\n",
            " [ 89848.91745222]\n",
            " [ 48659.43391218]\n",
            " [166428.39882463]\n",
            " [ 75813.98776936]\n",
            " [161665.89041009]\n",
            " [ 45895.62262641]\n",
            " [164902.69244923]\n",
            " [146356.62698398]\n",
            " [ 86976.37527121]]\n",
            "[[ 95000.]\n",
            " [115000.]\n",
            " [   350.]\n",
            " [180000.]\n",
            " [100000.]\n",
            " [150000.]\n",
            " [ 50000.]\n",
            " [200000.]\n",
            " [150000.]\n",
            " [100000.]]\n",
            "\n",
            "newline\n",
            "\n",
            "[[ 79110.74016495]\n",
            " [ 89848.90348206]\n",
            " [ 48659.45224413]\n",
            " [166428.4290168 ]\n",
            " [ 75813.96707125]\n",
            " [161665.91750445]\n",
            " [ 45895.62428073]\n",
            " [164902.69050028]\n",
            " [146356.63393879]\n",
            " [ 86976.35224163]]\n",
            "[[ 95000.]\n",
            " [115000.]\n",
            " [   350.]\n",
            " [180000.]\n",
            " [100000.]\n",
            " [150000.]\n",
            " [ 50000.]\n",
            " [200000.]\n",
            " [150000.]\n",
            " [100000.]]\n",
            "\n",
            "newline\n",
            "\n",
            "[[ 79110.73634283]\n",
            " [ 89848.8895183 ]\n",
            " [ 48659.47056767]\n",
            " [166428.45919513]\n",
            " [ 75813.94638263]\n",
            " [161665.94458639]\n",
            " [ 45895.6259343 ]\n",
            " [164902.68855223]\n",
            " [146356.64089041]\n",
            " [ 86976.32922261]]\n",
            "[[ 95000.]\n",
            " [115000.]\n",
            " [   350.]\n",
            " [180000.]\n",
            " [100000.]\n",
            " [150000.]\n",
            " [ 50000.]\n",
            " [200000.]\n",
            " [150000.]\n",
            " [100000.]]\n",
            "\n",
            "newline\n",
            "\n",
            "[[ 79110.73252246]\n",
            " [ 89848.87556095]\n",
            " [ 48659.4888828 ]\n",
            " [166428.48935961]\n",
            " [ 75813.92570349]\n",
            " [161665.97165592]\n",
            " [ 45895.62758711]\n",
            " [164902.68660507]\n",
            " [146356.64783884]\n",
            " [ 86976.30621415]]\n",
            "[[ 95000.]\n",
            " [115000.]\n",
            " [   350.]\n",
            " [180000.]\n",
            " [100000.]\n",
            " [150000.]\n",
            " [ 50000.]\n",
            " [200000.]\n",
            " [150000.]\n",
            " [100000.]]\n",
            "\n",
            "newline\n",
            "\n"
          ]
        }
      ],
      "source": [
        "for i in range(epoc):\n",
        "  hq=xtrain.dot(Q)\n",
        "  if(i%25==0):\n",
        "    acc(hq,ytrain)\n",
        "  hq-=ytrain\n",
        "  Q-=((alpha/hq.shape[0])*((xtrain.T).dot(hq)))\n"
      ]
    },
    {
      "cell_type": "code",
      "execution_count": 44,
      "metadata": {
        "id": "kjf0MkMDCzeZ"
      },
      "outputs": [],
      "source": [
        "import matplotlib.pyplot as plt"
      ]
    },
    {
      "cell_type": "code",
      "execution_count": 50,
      "metadata": {
        "colab": {
          "base_uri": "https://localhost:8080/",
          "height": 430
        },
        "id": "vZb_gK6J5YrO",
        "outputId": "fc1b5bff-e610-4d98-ddd0-ea827ac83fce"
      },
      "outputs": [
        {
          "data": {
            "image/png": "[encoded data removed]",
            "text/plain": [
              "<Figure size 640x480 with 1 Axes>"
            ]
          },
          "metadata": {},
          "output_type": "display_data"
        }
      ],
      "source": [
        "xres=xtest.dot(Q)\n",
        "plt.plot(xres,label=\"line 1\")\n",
        "plt.plot(ytest,label=\"line 2\")\n",
        "plt.legend()\n",
        "plt.show()"
      ]
    },
    {
      "cell_type": "code",
      "execution_count": null,
      "metadata": {
        "id": "D9aBzxyC9BTU"
      },
      "outputs": [],
      "source": []
    }
  ],
  "metadata": {
    "colab": {
      "provenance": []
    },
    "kernelspec": {
      "display_name": "Python 3",
      "name": "python3"
    },
    "language_info": {
      "name": "python"
    }
  },
  "nbformat": 4,
  "nbformat_minor": 0
}
